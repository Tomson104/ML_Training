{
  "nbformat": 4,
  "nbformat_minor": 0,
  "metadata": {
    "colab": {
      "provenance": [],
      "gpuType": "T4"
    },
    "kernelspec": {
      "name": "python3",
      "display_name": "Python 3"
    },
    "language_info": {
      "name": "python"
    },
    "accelerator": "GPU"
  },
  "cells": [
    {
      "cell_type": "code",
      "execution_count": 2,
      "metadata": {
        "id": "PrdieZqwWAUG"
      },
      "outputs": [],
      "source": [
        "from google.colab import drive"
      ]
    },
    {
      "cell_type": "code",
      "source": [
        "drive.mount('/content/gdrive')"
      ],
      "metadata": {
        "colab": {
          "base_uri": "https://localhost:8080/"
        },
        "id": "YwdTuXX2WXIO",
        "outputId": "5ef8fc0a-1468-4a8f-9239-0bb0e943c436"
      },
      "execution_count": 3,
      "outputs": [
        {
          "output_type": "stream",
          "name": "stdout",
          "text": [
            "Mounted at /content/gdrive\n"
          ]
        }
      ]
    },
    {
      "cell_type": "code",
      "source": [
        "import numpy as np\n",
        "import pandas as pd\n",
        "import tensorflow as tf\n",
        "from tensorflow import keras\n",
        "import matplotlib.pyplot as plt\n",
        "import os\n",
        "import time\n",
        "import zipfile\n",
        "from tensorflow.keras.preprocessing.image import load_img, img_to_array\n",
        "from sklearn.model_selection import train_test_split"
      ],
      "metadata": {
        "id": "4rzIQkL0Wd4E"
      },
      "execution_count": 9,
      "outputs": []
    },
    {
      "cell_type": "code",
      "source": [
        "# zip_path = \"/content/gdrive/MyDrive/cats_vs_dogs.zip\"\n",
        "# extract_path = \"/content/gdrive/MyDrive/cats_vs_dogs\""
      ],
      "metadata": {
        "id": "LwNLQsXlWwLE"
      },
      "execution_count": 4,
      "outputs": []
    },
    {
      "cell_type": "code",
      "source": [
        "# with zipfile.ZipFile(zip_path, 'r') as zip_ref:\n",
        "#     zip_ref.extractall(extract_path)"
      ],
      "metadata": {
        "id": "jhqj-bZ8XsoF"
      },
      "execution_count": 5,
      "outputs": []
    },
    {
      "cell_type": "code",
      "source": [
        "# Load the data\n",
        "image_size = (224, 224)  # Resize images to 224x224\n",
        "image_folder = \"/content/gdrive/MyDrive/cats_vs_dogs/cats_vs_dogs\"\n",
        "images = []\n",
        "labels = []"
      ],
      "metadata": {
        "id": "Nd0g9LeEXwDb"
      },
      "execution_count": 10,
      "outputs": []
    },
    {
      "cell_type": "code",
      "source": [
        "for filename in os.listdir(image_folder):\n",
        "    if filename.startswith('cat'):\n",
        "        label = 0\n",
        "    elif filename.startswith('dog'):\n",
        "        label = 1\n",
        "    else:\n",
        "        continue\n",
        "\n",
        "    img_path = os.path.join(image_folder, filename)\n",
        "    img = load_img(img_path, target_size=image_size)\n",
        "    img_array = img_to_array(img)\n",
        "    images.append(img_array)\n",
        "    labels.append(label)\n"
      ],
      "metadata": {
        "id": "dCClutgzX3Tf"
      },
      "execution_count": 11,
      "outputs": []
    },
    {
      "cell_type": "code",
      "source": [
        "img_array.shape"
      ],
      "metadata": {
        "colab": {
          "base_uri": "https://localhost:8080/"
        },
        "id": "pTA9J3CqZhR6",
        "outputId": "b4037051-e2ff-4613-c60b-739c67544764"
      },
      "execution_count": 12,
      "outputs": [
        {
          "output_type": "execute_result",
          "data": {
            "text/plain": [
              "(224, 224, 3)"
            ]
          },
          "metadata": {},
          "execution_count": 12
        }
      ]
    },
    {
      "cell_type": "code",
      "source": [
        "len(images)"
      ],
      "metadata": {
        "colab": {
          "base_uri": "https://localhost:8080/"
        },
        "id": "tQVvB6bnZqMK",
        "outputId": "dfc700dc-143a-4ad7-8f1e-dad940f4bb02"
      },
      "execution_count": 13,
      "outputs": [
        {
          "output_type": "execute_result",
          "data": {
            "text/plain": [
              "2000"
            ]
          },
          "metadata": {},
          "execution_count": 13
        }
      ]
    },
    {
      "cell_type": "code",
      "source": [
        "len(labels)"
      ],
      "metadata": {
        "colab": {
          "base_uri": "https://localhost:8080/"
        },
        "id": "i06LMQBJX6tc",
        "outputId": "7291e97d-b5c6-407c-e9b7-61839dc935ab"
      },
      "execution_count": 14,
      "outputs": [
        {
          "output_type": "execute_result",
          "data": {
            "text/plain": [
              "2000"
            ]
          },
          "metadata": {},
          "execution_count": 14
        }
      ]
    },
    {
      "cell_type": "code",
      "source": [
        "# Convert lists to numpy arrays\n",
        "images = np.array(images, dtype='float32')\n",
        "labels = np.array(labels, dtype='int32')"
      ],
      "metadata": {
        "id": "JEbPr_N4YoGS"
      },
      "execution_count": 15,
      "outputs": []
    },
    {
      "cell_type": "code",
      "source": [
        "images.shape"
      ],
      "metadata": {
        "colab": {
          "base_uri": "https://localhost:8080/"
        },
        "id": "Z6XSD_BKZ0tv",
        "outputId": "b31929b4-c7ea-4033-fabd-70a51814db8f"
      },
      "execution_count": 16,
      "outputs": [
        {
          "output_type": "execute_result",
          "data": {
            "text/plain": [
              "(2000, 224, 224, 3)"
            ]
          },
          "metadata": {},
          "execution_count": 16
        }
      ]
    },
    {
      "cell_type": "code",
      "source": [
        "labels.shape"
      ],
      "metadata": {
        "colab": {
          "base_uri": "https://localhost:8080/"
        },
        "id": "6Kz6SoYgZ2CM",
        "outputId": "fa1ac576-8565-4c45-af23-d99b55924a35"
      },
      "execution_count": 17,
      "outputs": [
        {
          "output_type": "execute_result",
          "data": {
            "text/plain": [
              "(2000,)"
            ]
          },
          "metadata": {},
          "execution_count": 17
        }
      ]
    },
    {
      "cell_type": "markdown",
      "source": [
        "images are typically represented as arrays of integers ranging from 0 to 255, which correspond to the intensity values of the pixels. Dividing by 255 scales these values to the range [0, 1]."
      ],
      "metadata": {
        "id": "dEGdAiJ-ormZ"
      }
    },
    {
      "cell_type": "code",
      "source": [
        "# Normalize the images\n",
        "images /= 255.0\n",
        "\n",
        "# Split the data into training and testing sets\n",
        "train_images, test_images, train_labels, test_labels = train_test_split(images, labels, test_size=0.2, random_state=42)\n",
        "\n",
        "print(f'Training data shape: {train_images.shape}, Training labels shape: {train_labels.shape}')\n",
        "print(f'Testing data shape: {test_images.shape}, Testing labels shape: {test_labels.shape}')"
      ],
      "metadata": {
        "colab": {
          "base_uri": "https://localhost:8080/"
        },
        "id": "rKVLgIiMZ470",
        "outputId": "5f6865a7-cce7-438d-d09d-a2e09e69e157"
      },
      "execution_count": 18,
      "outputs": [
        {
          "output_type": "stream",
          "name": "stdout",
          "text": [
            "Training data shape: (1600, 224, 224, 3), Training labels shape: (1600,)\n",
            "Testing data shape: (400, 224, 224, 3), Testing labels shape: (400,)\n"
          ]
        }
      ]
    },
    {
      "cell_type": "code",
      "source": [
        "import tensorflow as tf\n",
        "from tensorflow.keras.models import Sequential\n",
        "from tensorflow.keras.layers import Conv2D, MaxPooling2D, Flatten, Dense, Dropout, BatchNormalization"
      ],
      "metadata": {
        "id": "UjI4kkt9afM4"
      },
      "execution_count": 19,
      "outputs": []
    },
    {
      "cell_type": "code",
      "source": [
        "model=Sequential()\n",
        "\n",
        "model.add(Conv2D(filters=96,strides=(4,4),kernel_size=(11,11),padding='valid',input_shape=(224,224,3),activation='relu'))\n",
        "model.add(BatchNormalization())\n",
        "model.add(MaxPooling2D(pool_size=(3,3),strides=(2,2)))\n",
        "\n",
        "model.add(Conv2D(filters=256,strides=(1,1),kernel_size=(5,5),padding='valid',activation='relu'))\n",
        "model.add(MaxPooling2D(pool_size=(3,3),strides=(2,2)))\n",
        "\n",
        "model.add(Conv2D(filters=384,kernel_size=(3,3),strides=(1,1),padding='valid',activation='relu'))\n",
        "model.add(BatchNormalization())\n",
        "\n",
        "model.add(Conv2D(filters=384,kernel_size=(3,3),strides=(1,1),padding='valid',activation='relu'))\n",
        "model.add(BatchNormalization())\n",
        "\n",
        "model.add(Conv2D(filters=256,kernel_size=(3,3),strides=(1,1),padding='valid',activation='relu'))\n",
        "model.add(BatchNormalization())\n",
        "model.add(MaxPooling2D(pool_size=(3,3),strides=(2,2),padding='valid'))\n",
        "\n",
        "model.add(Flatten())\n",
        "\n",
        "model.add(Dense(units=4096,activation='relu'))\n",
        "model.add(Dropout(0.2))\n",
        "\n",
        "model.add(Dense(units=4096,activation='relu'))\n",
        "model.add(Dropout(0.2))\n",
        "\n",
        "model.add(Dense(units=1,activation='sigmoid')) # Here we will get two values because we used sigmoid"
      ],
      "metadata": {
        "id": "T3NXyUhQa2Fg"
      },
      "execution_count": 20,
      "outputs": []
    },
    {
      "cell_type": "code",
      "source": [
        "model.compile(\n",
        "    optimizer = 'adam',\n",
        "    loss = 'binary_crossentropy',\n",
        "    metrics = ['accuracy']\n",
        ")"
      ],
      "metadata": {
        "id": "S_YXKAL6bGq_"
      },
      "execution_count": 21,
      "outputs": []
    },
    {
      "cell_type": "code",
      "source": [
        "model.summary()"
      ],
      "metadata": {
        "colab": {
          "base_uri": "https://localhost:8080/"
        },
        "id": "Bmmk1yqYbaX3",
        "outputId": "14f76ac9-d238-4b39-a1e3-f626d847db88"
      },
      "execution_count": 22,
      "outputs": [
        {
          "output_type": "stream",
          "name": "stdout",
          "text": [
            "Model: \"sequential\"\n",
            "_________________________________________________________________\n",
            " Layer (type)                Output Shape              Param #   \n",
            "=================================================================\n",
            " conv2d (Conv2D)             (None, 54, 54, 96)        34944     \n",
            "                                                                 \n",
            " batch_normalization (Batch  (None, 54, 54, 96)        384       \n",
            " Normalization)                                                  \n",
            "                                                                 \n",
            " max_pooling2d (MaxPooling2  (None, 26, 26, 96)        0         \n",
            " D)                                                              \n",
            "                                                                 \n",
            " conv2d_1 (Conv2D)           (None, 22, 22, 256)       614656    \n",
            "                                                                 \n",
            " max_pooling2d_1 (MaxPoolin  (None, 10, 10, 256)       0         \n",
            " g2D)                                                            \n",
            "                                                                 \n",
            " conv2d_2 (Conv2D)           (None, 8, 8, 384)         885120    \n",
            "                                                                 \n",
            " batch_normalization_1 (Bat  (None, 8, 8, 384)         1536      \n",
            " chNormalization)                                                \n",
            "                                                                 \n",
            " conv2d_3 (Conv2D)           (None, 6, 6, 384)         1327488   \n",
            "                                                                 \n",
            " batch_normalization_2 (Bat  (None, 6, 6, 384)         1536      \n",
            " chNormalization)                                                \n",
            "                                                                 \n",
            " conv2d_4 (Conv2D)           (None, 4, 4, 256)         884992    \n",
            "                                                                 \n",
            " batch_normalization_3 (Bat  (None, 4, 4, 256)         1024      \n",
            " chNormalization)                                                \n",
            "                                                                 \n",
            " max_pooling2d_2 (MaxPoolin  (None, 1, 1, 256)         0         \n",
            " g2D)                                                            \n",
            "                                                                 \n",
            " flatten (Flatten)           (None, 256)               0         \n",
            "                                                                 \n",
            " dense (Dense)               (None, 4096)              1052672   \n",
            "                                                                 \n",
            " dropout (Dropout)           (None, 4096)              0         \n",
            "                                                                 \n",
            " dense_1 (Dense)             (None, 4096)              16781312  \n",
            "                                                                 \n",
            " dropout_1 (Dropout)         (None, 4096)              0         \n",
            "                                                                 \n",
            " dense_2 (Dense)             (None, 1)                 4097      \n",
            "                                                                 \n",
            "=================================================================\n",
            "Total params: 21589761 (82.36 MB)\n",
            "Trainable params: 21587521 (82.35 MB)\n",
            "Non-trainable params: 2240 (8.75 KB)\n",
            "_________________________________________________________________\n"
          ]
        }
      ]
    },
    {
      "cell_type": "code",
      "source": [
        "# Train the model\n",
        "history = model.fit(train_images, train_labels, epochs=10, batch_size=32, validation_data=(test_images, test_labels))\n"
      ],
      "metadata": {
        "colab": {
          "base_uri": "https://localhost:8080/"
        },
        "id": "-gKQr38Xbb_a",
        "outputId": "3511f83e-64c2-4977-b7e3-b48d00012906"
      },
      "execution_count": 23,
      "outputs": [
        {
          "output_type": "stream",
          "name": "stdout",
          "text": [
            "Epoch 1/10\n",
            "50/50 [==============================] - 140s 3s/step - loss: 1.0527 - accuracy: 0.5200 - val_loss: 1.2516 - val_accuracy: 0.5000\n",
            "Epoch 2/10\n",
            "50/50 [==============================] - 140s 3s/step - loss: 0.6951 - accuracy: 0.5519 - val_loss: 0.7006 - val_accuracy: 0.4650\n",
            "Epoch 3/10\n",
            "50/50 [==============================] - 144s 3s/step - loss: 0.6778 - accuracy: 0.5725 - val_loss: 0.6966 - val_accuracy: 0.5250\n",
            "Epoch 4/10\n",
            "50/50 [==============================] - 139s 3s/step - loss: 0.6738 - accuracy: 0.5825 - val_loss: 0.6754 - val_accuracy: 0.5775\n",
            "Epoch 5/10\n",
            "50/50 [==============================] - 139s 3s/step - loss: 0.6719 - accuracy: 0.5931 - val_loss: 0.6723 - val_accuracy: 0.5900\n",
            "Epoch 6/10\n",
            "50/50 [==============================] - 135s 3s/step - loss: 0.6605 - accuracy: 0.6250 - val_loss: 0.7815 - val_accuracy: 0.5100\n",
            "Epoch 7/10\n",
            "50/50 [==============================] - 136s 3s/step - loss: 0.6511 - accuracy: 0.6225 - val_loss: 0.7231 - val_accuracy: 0.5725\n",
            "Epoch 8/10\n",
            "50/50 [==============================] - 135s 3s/step - loss: 0.6484 - accuracy: 0.6338 - val_loss: 0.7185 - val_accuracy: 0.5975\n",
            "Epoch 9/10\n",
            "50/50 [==============================] - 141s 3s/step - loss: 0.6420 - accuracy: 0.6394 - val_loss: 0.8891 - val_accuracy: 0.5150\n",
            "Epoch 10/10\n",
            "50/50 [==============================] - 136s 3s/step - loss: 0.6284 - accuracy: 0.6687 - val_loss: 0.6661 - val_accuracy: 0.5925\n"
          ]
        }
      ]
    },
    {
      "cell_type": "code",
      "source": [
        "# Evaluate the model\n",
        "test_loss, test_acc = model.evaluate(test_images, test_labels)\n",
        "print(f'Test accuracy: {test_acc:.4f}')"
      ],
      "metadata": {
        "colab": {
          "base_uri": "https://localhost:8080/"
        },
        "id": "nltbg2KGbmrG",
        "outputId": "fa7014f8-b553-4656-9c39-43baa2f9a789"
      },
      "execution_count": 24,
      "outputs": [
        {
          "output_type": "stream",
          "name": "stdout",
          "text": [
            "13/13 [==============================] - 7s 523ms/step - loss: 0.6661 - accuracy: 0.5925\n",
            "Test accuracy: 0.5925\n"
          ]
        }
      ]
    },
    {
      "cell_type": "code",
      "source": [
        "# Plot training & validation accuracy values\n",
        "plt.figure(figsize=(12, 4))\n",
        "plt.subplot(1, 2, 1)\n",
        "plt.plot(history.history['accuracy'])\n",
        "plt.plot(history.history['val_accuracy'])\n",
        "plt.title('Model accuracy')\n",
        "plt.ylabel('Accuracy')\n",
        "plt.xlabel('Epoch')\n",
        "plt.legend(['Train', 'Test'], loc='upper left')\n",
        "\n",
        "# Plot training & validation loss values\n",
        "plt.subplot(1, 2, 2)\n",
        "plt.plot(history.history['loss'])\n",
        "plt.plot(history.history['val_loss'])\n",
        "plt.title('Model loss')\n",
        "plt.ylabel('Loss')\n",
        "plt.xlabel('Epoch')\n",
        "plt.legend(['Train', 'Test'], loc='upper left')\n",
        "\n",
        "plt.show()"
      ],
      "metadata": {
        "colab": {
          "base_uri": "https://localhost:8080/",
          "height": 410
        },
        "id": "dYe3brMmdv4i",
        "outputId": "1f624d02-b35f-4e3a-f39f-7612f7cd7f07"
      },
      "execution_count": 25,
      "outputs": [
        {
          "output_type": "display_data",
          "data": {
            "text/plain": [
              "<Figure size 1200x400 with 2 Axes>"
            ],
            "image/png": "[encoded data removed]"
          },
          "metadata": {}
        }
      ]
    },
    {
      "cell_type": "code",
      "source": [
        "from sklearn.metrics import confusion_matrix, ConfusionMatrixDisplay\n",
        "# Generate predictions\n",
        "test_preds = (model.predict(test_images) > 0.5).astype(\"int32\")\n",
        "\n",
        "# Calculate confusion matrix\n",
        "cm = confusion_matrix(test_labels, test_preds)\n",
        "disp = ConfusionMatrixDisplay(confusion_matrix=cm, display_labels=['Cat', 'Dog'])\n",
        "\n",
        "# Plot confusion matrix\n",
        "disp.plot(cmap=plt.cm.Blues)\n",
        "plt.title('Confusion Matrix')\n",
        "plt.show()"
      ],
      "metadata": {
        "colab": {
          "base_uri": "https://localhost:8080/",
          "height": 489
        },
        "id": "r2lWn8F_dzew",
        "outputId": "2515afc4-e97e-49bb-ae2d-8187259e4986"
      },
      "execution_count": 26,
      "outputs": [
        {
          "output_type": "stream",
          "name": "stdout",
          "text": [
            "13/13 [==============================] - 9s 626ms/step\n"
          ]
        },
        {
          "output_type": "display_data",
          "data": {
            "text/plain": [
              "<Figure size 640x480 with 2 Axes>"
            ],
            "image/png": "[encoded data removed]"
          },
          "metadata": {}
        }
      ]
    },
    {
      "cell_type": "code",
      "source": [],
      "metadata": {
        "id": "KaH3ui9neGv6"
      },
      "execution_count": null,
      "outputs": []
    }
  ]
}